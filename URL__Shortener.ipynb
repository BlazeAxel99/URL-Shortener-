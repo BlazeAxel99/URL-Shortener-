{
  "nbformat": 4,
  "nbformat_minor": 0,
  "metadata": {
    "colab": {
      "name": "URL _Shortener.ipynb",
      "private_outputs": true,
      "provenance": []
    },
    "kernelspec": {
      "name": "python3",
      "display_name": "Python 3"
    },
    "language_info": {
      "name": "python"
    }
  },
  "cells": [
    {
      "cell_type": "markdown",
      "metadata": {
        "id": "ByE4oEEXyGWB"
      },
      "source": [
        "# Mini-URL Service\n",
        "\n",
        "\n",
        "\n"
      ]
    },
    {
      "cell_type": "code",
      "metadata": {
        "id": "XLReme-1yOtV"
      },
      "source": [
        "import random\n",
        "import string"
      ],
      "execution_count": null,
      "outputs": []
    },
    {
      "cell_type": "code",
      "metadata": {
        "id": "7vGypEZiyOvw"
      },
      "source": [
        "random.randint(5,10)"
      ],
      "execution_count": null,
      "outputs": []
    },
    {
      "cell_type": "code",
      "metadata": {
        "id": "Nlx8UDVjyOyY"
      },
      "source": [
        "letters = string.ascii_lowercase"
      ],
      "execution_count": null,
      "outputs": []
    },
    {
      "cell_type": "code",
      "metadata": {
        "id": "JILYo9LdyO0s"
      },
      "source": [
        "print(letters)"
      ],
      "execution_count": null,
      "outputs": []
    },
    {
      "cell_type": "code",
      "metadata": {
        "id": "XWi3uNpjyO3G"
      },
      "source": [
        "URL_DB = {}"
      ],
      "execution_count": null,
      "outputs": []
    },
    {
      "cell_type": "code",
      "metadata": {
        "id": "00veKU15yO5l"
      },
      "source": [
        "def get_short_url(url):\n",
        "\n",
        "  l = random.randint(4,6)\n",
        "\n",
        "  short_url = \"cm.in/\"\n",
        "  for i in range(l):\n",
        "    short_url += random.choice(letters)\n",
        "\n",
        "  if URL_DB.get(short_url) is not None:\n",
        "\n",
        "    return get_short_url(url)\n",
        "\n",
        "  else:\n",
        "    URL_DB[short_url] = url  \n",
        "\n",
        "  return short_url  \n",
        "\n",
        "def get_long_url(short_url):  \n",
        "  if URL_DB.get(short_url) is None:\n",
        "    return \"Short Link doesn't exists\" \n",
        "  else: \n",
        "    return URL_DB[short_url]  \n"
      ],
      "execution_count": null,
      "outputs": []
    },
    {
      "cell_type": "code",
      "metadata": {
        "id": "DTh4Z6V7yO77"
      },
      "source": [
        "my_url = \"https://github.com/BlazeAxel99\"\n",
        "get_short_url(my_url)"
      ],
      "execution_count": null,
      "outputs": []
    },
    {
      "cell_type": "code",
      "metadata": {
        "id": "L4lw0oJC3xit"
      },
      "source": [
        "print(URL_DB)"
      ],
      "execution_count": null,
      "outputs": []
    },
    {
      "cell_type": "code",
      "metadata": {
        "id": "Y90p5syIyO-l"
      },
      "source": [
        "get_long_url('cm.in/qlteq')"
      ],
      "execution_count": null,
      "outputs": []
    },
    {
      "cell_type": "code",
      "metadata": {
        "id": "ZwJcLfYKyPBL"
      },
      "source": [
        ""
      ],
      "execution_count": null,
      "outputs": []
    },
    {
      "cell_type": "code",
      "metadata": {
        "id": "0A0vRiWsyPD1"
      },
      "source": [
        ""
      ],
      "execution_count": null,
      "outputs": []
    },
    {
      "cell_type": "code",
      "metadata": {
        "id": "ZEpIItNXyPGM"
      },
      "source": [
        ""
      ],
      "execution_count": null,
      "outputs": []
    },
    {
      "cell_type": "code",
      "metadata": {
        "id": "PRy-Fea1yPJE"
      },
      "source": [
        ""
      ],
      "execution_count": null,
      "outputs": []
    },
    {
      "cell_type": "code",
      "metadata": {
        "id": "4fj_vpkRyPLp"
      },
      "source": [
        ""
      ],
      "execution_count": null,
      "outputs": []
    },
    {
      "cell_type": "code",
      "metadata": {
        "id": "O6xUSh84yPOB"
      },
      "source": [
        ""
      ],
      "execution_count": null,
      "outputs": []
    },
    {
      "cell_type": "code",
      "metadata": {
        "id": "fNaznR4CyPRm"
      },
      "source": [
        ""
      ],
      "execution_count": null,
      "outputs": []
    },
    {
      "cell_type": "code",
      "metadata": {
        "id": "-6jcwY1PyPT5"
      },
      "source": [
        ""
      ],
      "execution_count": null,
      "outputs": []
    },
    {
      "cell_type": "code",
      "metadata": {
        "id": "gLc8sDUQyPWt"
      },
      "source": [
        ""
      ],
      "execution_count": null,
      "outputs": []
    },
    {
      "cell_type": "code",
      "metadata": {
        "id": "sHL_kj_4yPqO"
      },
      "source": [
        ""
      ],
      "execution_count": null,
      "outputs": []
    }
  ]
}